{
  "nbformat": 4,
  "nbformat_minor": 0,
  "metadata": {
    "colab": {
      "provenance": []
    },
    "kernelspec": {
      "name": "python3",
      "display_name": "Python 3"
    },
    "language_info": {
      "name": "python"
    }
  },
  "cells": [
    {
      "cell_type": "markdown",
      "source": [
        "# **TUGAS 1**\n",
        "## Pemrograman Berbasis Fungsi\n",
        "---\n",
        "**Nama  : Ima Alifah Izati Zalfa**\\\n",
        "**NIM   : 121450140**\\\n",
        "**Kelas : RC**\\\n",
        "**Prodi : Sains data**"
      ],
      "metadata": {
        "id": "d3EIUhyyIIXJ"
      }
    },
    {
      "cell_type": "markdown",
      "source": [
        "### 1. Jelaskan menggunakan tabel mengenai kelebihan dan kekurangan paradigma procedural dibandingkan dengan object oriented (minimal 3) !"
      ],
      "metadata": {
        "id": "Z9K7_-C-8FJ7"
      }
    },
    {
      "cell_type": "markdown",
      "source": [
        "|            | Paradigma Procedural | Paradigma Object Oriented |\n",
        "| ---------- | -------------------- | ------------------------- |\n",
        "| Kelebihan  | 1. Lebih sederhana dan mudah dipahami bagi pemula. | 1. Lebih fleksibel dan bisa dipakai untuk memodelkan dunia nyata. |\n",
        "|            | 2. Lebih efisien dalam memproses data besar. | 2. Lebih mudah untuk memahami dan mengelola data yang kompleks. |\n",
        "|            | 3. Lebih cocok digunakan untuk tugas-tugas sederhana dan prosedural. | 3. Lebih mudah untuk menambahkan fitur dan memodifikasi kode di masa depan. | \n",
        "|\n",
        "| Kekurangan | 1. Sulit untuk memodelkan konsep abstrak dan konsep-konsep yang kompleks. | 1. Lebih sulit untuk dipahami dan dipelajari bagi pemula. |\n",
        "|            | 2. Tidak bisa memanfaatkan inheritance dan polymorphism. | 2. Lebih berat dan membutuhkan resource yang lebih besar. |\n",
        "|            | 3. Coding lebih rumit dan membutuhkan waktu yang lebih lama. | 3. Debugging dan memahami error lebih sulit. | "
      ],
      "metadata": {
        "id": "vAU-pVZoBEOe"
      }
    },
    {
      "cell_type": "markdown",
      "source": [
        "### 2. Jelaskan menggunakan tabel mengenai kelebihan dan kekurangan paradigma object oriented dibandingkan dengan functional (minimal 3) !"
      ],
      "metadata": {
        "id": "sFes-RLXHopG"
      }
    },
    {
      "cell_type": "markdown",
      "source": [
        "|            | Paradigma Object Oriented | Paradigma Functional |\n",
        "| ---------- | ------------------------- | -------------------- |\n",
        "| Kelebihan  | 1. Menyediakan model pemrograman berbasis objek yang mudah dipahami dan diterapkan. | 1. Fokus pada operasi pemrosesan data dan tidak menyimpan data di dalam objek. |\n",
        "|            | 2. Mampu menangani masalah kompleks dengan mudah melalui pemodelan objek yang tepat. | 2. Lebih mudah diprediksi dan memastikan nilai tidak berubah. |\n",
        "|            | 3. Mendukung reusabilitas kode dengan adanya inheritance dan polymorphism. | 3. Kode yang lebih ringkas dan mudah dibaca dan dimaintain. | \n",
        "|\n",
        "| Kekurangan | 1. Implementasi yang rumit dan memerlukan waktu lebih banyak untuk memahami dan mengaplikasikan. | 1. Konsep yang berbeda dan mungkin sulit dipahami bagi programmer yang biasa menggunakan paradigma lain. |\n",
        "|            | 2. Membutuhkan lebih banyak waktu dan sumber daya untuk menganalisis dan memahami struktur objek. | 2. Lebih sulit untuk mengatasi masalah yang kompleks karena tidak ada objek yang bisa digunakan sebagai model.|\n",
        "|            | 3. Bisa menjadi lebih membingungkan dan sulit dipahami jika tidak ada dokumentasi dan design yang baik. | 3. Implementasi yang lebih rumit dan memerlukan lebih banyak waktu untuk memahami dan mengaplikasikan. | "
      ],
      "metadata": {
        "id": "Xto0dtAWLVBL"
      }
    },
    {
      "cell_type": "markdown",
      "source": [
        "### 3. Jelaskan menggunakan tabel mengenai kelebihan dan kekurangan paradigma procedural dibandingkan dengan functional (minimal 3) !"
      ],
      "metadata": {
        "id": "qNLoGFtUP-LP"
      }
    },
    {
      "cell_type": "markdown",
      "source": [
        "|            | Paradigma Procedural | Paradigma Functional |\n",
        "| ---------- | -------------------- | -------------------- |\n",
        "| Kelebihan  | 1. Lebih mudah dipahami dan dipelajari karena memiliki alur yang jelas dan linear. | 1. Lebih mudah dipelihara dan memperbarui kode karena memiliki modul yang terpisah dan dapat diuji secara terpisah. |\n",
        "|            | 2. Lebih fleksibel dan dapat digunakan untuk memecahkan berbagai masalah. | 2. Lebih efisien dalam hal menangani masalah paralel dan kompleks. |\n",
        "|            | 3. Lebih efisien dalam hal waktu dan sumber daya komputer. | 3. Dapat mengurangi side-effect dan meningkatkan keandalan kode. | \n",
        "|\n",
        "| Kekurangan | 1. Kurang modular dan tidak memiliki kemampuan untuk memodelkan objek secara efektif. | 1. Kurang intuitif dan membutuhkan waktu untuk dipahami dan dipelajari. |\n",
        "|            | 2. Lebih sulit untuk memelihara dan memperbarui kode. | 2. Lebih sulit untuk memecahkan masalah yang tidak cocok dengan pendekatan fungsional. |\n",
        "|            | 3. Kurang cocok untuk proyek besar dan kompleks. | 3. Lebih lambat dalam hal waktu dan sumber daya komputer. | "
      ],
      "metadata": {
        "id": "2EQzYO8KQ5rM"
      }
    },
    {
      "cell_type": "markdown",
      "source": [
        "### 4. Apa yang dimaksud dengan pure functional programming language?"
      ],
      "metadata": {
        "id": "pn4PwqqYZ9ol"
      }
    },
    {
      "cell_type": "markdown",
      "source": [
        "Pure functional programming adalah paradigma pemrograman dimana semua elemen program tidak memiliki efek samping dan hanya mengembalikan nilai dari input. Ini memastikan bahwa hasil dari suatu fungsi selalu sama untuk suatu input tertentu, membuat program lebih mudah diprediksi dan diuji."
      ],
      "metadata": {
        "id": "D6tKHCyDaCtK"
      }
    },
    {
      "cell_type": "markdown",
      "source": [
        "### 5. Dari bahasa pemrograman FP di slide sebelumnya ( slide 14 ) , manakah yang termasuk pure functional programming language?"
      ],
      "metadata": {
        "id": "nuLw0WXRar3N"
      }
    },
    {
      "cell_type": "markdown",
      "source": [
        "yang termasuk pure functional programming language adalah Lisp, Haskell, dan Standard ML."
      ],
      "metadata": {
        "id": "05d73tnItGig"
      }
    },
    {
      "cell_type": "markdown",
      "source": [
        "### 6. Membuat program Simple Password encryption, dengan ketentuan"
      ],
      "metadata": {
        "id": "IX2yFpkVznKZ"
      }
    },
    {
      "cell_type": "markdown",
      "source": [
        "1. Input password bertipe string dengan batasan panjang password 100 karakter\n",
        "2. Setiap karakter dari string tersebut diubah menjadi ASCII value\n",
        "3. Kemudian setiap ASCII value tersebut dikembangkan menjadi 3 value dengan dilakukan operasi berikut:<br>\n",
        "  1) Value pertama dibagi dengan integer 26 kemudian dibulatkan dan dijumlahkan dengan 80 kemudian diubah kembali menjadi karakter\n",
        "  2) Value kedua dihitung sisa bagi dengan 26 kemudian dijumlahkan dengan 80 kemudian diubah kembali menjadi karakter<br>\n",
        "  3) Value ketiga adalah karakter ‘+’ jika value pertama lebih besar dari value kedua, atau value ketiga adalah karakter ‘-’ jika value pertama tidak lebih besar dari value kedua<br>\n",
        "4. Deretkan value pertama, kedua dan ketiga untuk setiap karakter dalam password tersebut sehingga didapatkan password dalam bentuk baru"
      ],
      "metadata": {
        "id": "4zOCfxLi1-_m"
      }
    },
    {
      "cell_type": "markdown",
      "source": [
        "#### Bantulah user tersebut dengan membuatkan sebuah program yang secara otomatis mengubah password yang di input menjadi terenkripsi sesuai aturan tersebut!"
      ],
      "metadata": {
        "id": "v670_CsZ2EiD"
      }
    },
    {
      "cell_type": "code",
      "source": [
        "def encrypt_password(password):\n",
        "    encrypted_password = \"\"\n",
        "    for char in password:\n",
        "        ascii_value = ord(char)\n",
        "        value_1 = (ascii_value // 26) + 80\n",
        "        value_2 = (ascii_value % 26) + 80\n",
        "        value_3 = \"+\" if value_1 > value_2 else \"-\"\n",
        "        encrypted_password += chr(value_1) + chr(value_2) + value_3\n",
        "    return encrypted_password\n",
        "\n",
        "def decrypt_password(encrypted_password):\n",
        "    password = \"\"\n",
        "    for i in range(0, len(encrypted_password), 3):\n",
        "        value_1 = ord(encrypted_password[i]) - 80\n",
        "        value_2 = ord(encrypted_password[i+1]) - 80\n",
        "        ascii_value = (value_1 * 26) + value_2\n",
        "        password += chr(ascii_value)\n",
        "    return password"
      ],
      "metadata": {
        "id": "9MmGHLUM2Nfs"
      },
      "execution_count": null,
      "outputs": []
    },
    {
      "cell_type": "markdown",
      "source": [
        "#### Apa output yang dihasilkan dari program tersebut jika input password adalah ‘anakanakcerdas2020’ ?"
      ],
      "metadata": {
        "id": "hB6nvdmj2VZ8"
      }
    },
    {
      "cell_type": "code",
      "source": [
        "password = input(\"Input password: \")\n",
        "encrypted_password = encrypt_password(password)\n",
        "print(\"Encrypted password: \", encrypted_password)"
      ],
      "metadata": {
        "colab": {
          "base_uri": "https://localhost:8080/"
        },
        "id": "3ud1DjRb2d2q",
        "outputId": "24b3c4a8-7c69-4f18-ed52-024baade9c1f"
      },
      "execution_count": null,
      "outputs": [
        {
          "output_type": "stream",
          "name": "stdout",
          "text": [
            "Input password: anakanakcerdas2020\n",
            "Encrypted password:  Sc-TV-Sc-TS+Sc-TV-Sc-TS+Se-Sg-TZ-Sf-Sc-T[-Qh-Qf-Qh-Qf-\n"
          ]
        }
      ]
    },
    {
      "cell_type": "markdown",
      "source": [
        "#### (Bonus) User tersebut lupa password asli yang dia inputkan ke dalam program tersebut, password setelah dienkripsi adalah <br> ‘Sc-TV-Sc-TS+T[-Sc-TQ+TV-T[-Sf-Sc-T\\-Sc-Qh-Qf-Qh-Qf-TS+Sg-Se-Sg-’. Bantulah user tersebut mendapatkan password asli nya!"
      ],
      "metadata": {
        "id": "EbhixyEA3tij"
      }
    },
    {
      "cell_type": "code",
      "source": [
        "encrypted_password = input(\"Input encryption password: \")\n",
        "password = decrypt_password(encrypted_password)\n",
        "print(\"Decrypted password: \", password)"
      ],
      "metadata": {
        "colab": {
          "base_uri": "https://localhost:8080/"
        },
        "id": "31kZTdto35UG",
        "outputId": "b22f225e-9701-4cfe-e586-4a77c68eee02"
      },
      "execution_count": null,
      "outputs": [
        {
          "output_type": "stream",
          "name": "stdout",
          "text": [
            "Input encryption password: Sc-TV-Sc-TS+T[-Sc-TQ+TV-T[-Sf-Sc-T\\-Sc-Qh-Qf-Qh-Qf-TS+Sg-Se-Sg-\n",
            "Decrypted password:  anaksainsdata2020kece\n"
          ]
        }
      ]
    }
  ]
}